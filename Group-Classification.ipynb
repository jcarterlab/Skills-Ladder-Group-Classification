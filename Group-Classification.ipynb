{
 "cells": [
  {
   "cell_type": "markdown",
   "id": "a126702f-3fd3-4841-94a5-cfcfa37510cf",
   "metadata": {},
   "source": [
    "# Skills Ladder Group Classification"
   ]
  },
  {
   "cell_type": "markdown",
   "id": "8f8f2069-6e7e-419d-9b77-5fc344eb5ed1",
   "metadata": {},
   "source": [
    "Skills Ladder is an IT training company based in Gloucestershire, the United Kingdom. This notebook aims to place the firm's IT training clients into groups based on their Excel knowledge. It outlines how scores from questions answered can be organized by difficulty, normalized and multiplied by a weight for better classifications. It also shows how the group size changes when the limits are varied."
   ]
  },
  {
   "cell_type": "markdown",
   "id": "2f2a23da-c951-4ae4-8bc3-73b36aac2075",
   "metadata": {},
   "source": [
    "## Final score calculation"
   ]
  },
  {
   "cell_type": "markdown",
   "id": "14cfb000-35c6-43b9-8002-c09df86bf95a",
   "metadata": {},
   "source": [
    "[1]\n",
    "\n",
    "$$\n",
    "Z_{Sn_{𝑖}} = \\frac{Sn_{𝑖}-μ_{Sn} }{σ_{Sn} }\n",
    "$$\n",
    "\n",
    "[2]\n",
    "\n",
    "$$\n",
    "FS_{𝑖} = \\frac{ Z_{S1_{𝑖}}W_{1}+...+Z_{Sn_{𝑖}}W_{n} }{n}\n",
    "$$\n",
    "\n",
    "Where...\n",
    "\n",
    "* Z = z-score\n",
    "* S = score type (incl. total, math, beginner, intermediate, advanced & open question)\n",
    "* N = number of score types\n",
    "* μ = mean\n",
    "* σ = standard deviation\n",
    "* FS = final score\n",
    "* Weight\n",
    "\n",
    "\n",
    "\n"
   ]
  },
  {
   "cell_type": "markdown",
   "id": "c18b4dae-f3c4-4efc-be64-5cd2bf725d94",
   "metadata": {},
   "source": [
    "## Read-in data"
   ]
  },
  {
   "cell_type": "code",
   "execution_count": 1,
   "id": "d129b6df-bcd5-43fb-8862-4f55af62f18d",
   "metadata": {},
   "outputs": [
    {
     "data": {
      "text/html": [
       "<div>\n",
       "<style scoped>\n",
       "    .dataframe tbody tr th:only-of-type {\n",
       "        vertical-align: middle;\n",
       "    }\n",
       "\n",
       "    .dataframe tbody tr th {\n",
       "        vertical-align: top;\n",
       "    }\n",
       "\n",
       "    .dataframe thead th {\n",
       "        text-align: right;\n",
       "    }\n",
       "</style>\n",
       "<table border=\"1\" class=\"dataframe\">\n",
       "  <thead>\n",
       "    <tr style=\"text-align: right;\">\n",
       "      <th></th>\n",
       "      <th>Timestamp</th>\n",
       "      <th>First Name</th>\n",
       "      <th>Do you have a maths level 2 qualification, which means GCSE maths C (new grade 4) or above, O Level maths or Level 2 Functional Skills?</th>\n",
       "      <th>Opening a spreadsheet or creating a new blank spreadsheet.</th>\n",
       "      <th>Cell Formatting: How confident are you in formatting cells, including adjusting row and column sizes and applying basic formatting like bold, italics, and underlining?</th>\n",
       "      <th>Basic Functions and Formulas: Rate your ability to use basic functions such as SUM, AVERAGE, and COUNT.</th>\n",
       "      <th>Data Entry and Sorting: Evaluate your proficiency in entering data and using simple sorting techniques in Excel.</th>\n",
       "      <th>Charts and Graphs: Rate your ability to create and modify charts and graphs in Excel.</th>\n",
       "      <th>Complex Functions (e.g., VLOOKUP, IF): How skilled are you in using more complex functions like VLOOKUP, IF statements, and conditional formatting?</th>\n",
       "      <th>Data Filters and Pivot Tables: How well can you use data filters and create basic pivot tables for data analysis?</th>\n",
       "      <th>Advanced Data Analysis: Assess your skills in advanced data analysis, including the use of PivotTable features like calculated fields and data groupings.</th>\n",
       "      <th>Macros and VBA: Rate your proficiency in creating and using macros, and if applicable, writing basic VBA (Visual Basic for Applications) scripts.</th>\n",
       "      <th>Problem-Solving and Optimization: How confident are you in using Excel to solve complex problems, optimize processes, and automate repetitive tasks?</th>\n",
       "      <th>What Spreadsheet / Excel skills would you like to improve?</th>\n",
       "      <th>Total Score</th>\n",
       "      <th>Beginner</th>\n",
       "      <th>Intermediate</th>\n",
       "      <th>Advanced</th>\n",
       "    </tr>\n",
       "  </thead>\n",
       "  <tbody>\n",
       "    <tr>\n",
       "      <th>0</th>\n",
       "      <td>12/28/2023 8:31:45</td>\n",
       "      <td>Mark</td>\n",
       "      <td>Yes</td>\n",
       "      <td>2.0</td>\n",
       "      <td>0.0</td>\n",
       "      <td>0.0</td>\n",
       "      <td>0.0</td>\n",
       "      <td>0.0</td>\n",
       "      <td>0.0</td>\n",
       "      <td>0.0</td>\n",
       "      <td>0.0</td>\n",
       "      <td>0.0</td>\n",
       "      <td>0.0</td>\n",
       "      <td>all</td>\n",
       "      <td>2.0</td>\n",
       "      <td>2.0</td>\n",
       "      <td>0.0</td>\n",
       "      <td>0.0</td>\n",
       "    </tr>\n",
       "    <tr>\n",
       "      <th>1</th>\n",
       "      <td>1/3/2024 16:30:11</td>\n",
       "      <td>Michelle</td>\n",
       "      <td>Yes</td>\n",
       "      <td>4.0</td>\n",
       "      <td>0.0</td>\n",
       "      <td>0.0</td>\n",
       "      <td>0.0</td>\n",
       "      <td>0.0</td>\n",
       "      <td>0.0</td>\n",
       "      <td>0.0</td>\n",
       "      <td>0.0</td>\n",
       "      <td>0.0</td>\n",
       "      <td>0.0</td>\n",
       "      <td>Everything i am a beginner at all of it</td>\n",
       "      <td>4.0</td>\n",
       "      <td>4.0</td>\n",
       "      <td>0.0</td>\n",
       "      <td>0.0</td>\n",
       "    </tr>\n",
       "    <tr>\n",
       "      <th>2</th>\n",
       "      <td>12/27/2023 9:37:47</td>\n",
       "      <td>Robert</td>\n",
       "      <td>Yes</td>\n",
       "      <td>4.0</td>\n",
       "      <td>1.0</td>\n",
       "      <td>1.0</td>\n",
       "      <td>0.0</td>\n",
       "      <td>0.0</td>\n",
       "      <td>0.0</td>\n",
       "      <td>0.0</td>\n",
       "      <td>0.0</td>\n",
       "      <td>0.0</td>\n",
       "      <td>0.0</td>\n",
       "      <td>Basic to intermediate skills</td>\n",
       "      <td>6.0</td>\n",
       "      <td>6.0</td>\n",
       "      <td>0.0</td>\n",
       "      <td>0.0</td>\n",
       "    </tr>\n",
       "    <tr>\n",
       "      <th>3</th>\n",
       "      <td>1/2/2024 14:14:31</td>\n",
       "      <td>Raj</td>\n",
       "      <td>Yes</td>\n",
       "      <td>2.0</td>\n",
       "      <td>3.0</td>\n",
       "      <td>0.0</td>\n",
       "      <td>1.0</td>\n",
       "      <td>0.0</td>\n",
       "      <td>0.0</td>\n",
       "      <td>0.0</td>\n",
       "      <td>0.0</td>\n",
       "      <td>0.0</td>\n",
       "      <td>0.0</td>\n",
       "      <td>Everything</td>\n",
       "      <td>6.0</td>\n",
       "      <td>6.0</td>\n",
       "      <td>0.0</td>\n",
       "      <td>0.0</td>\n",
       "    </tr>\n",
       "    <tr>\n",
       "      <th>4</th>\n",
       "      <td>1/3/2024 15:30:44</td>\n",
       "      <td>Annie</td>\n",
       "      <td>Yes</td>\n",
       "      <td>3.0</td>\n",
       "      <td>3.0</td>\n",
       "      <td>0.0</td>\n",
       "      <td>0.0</td>\n",
       "      <td>0.0</td>\n",
       "      <td>0.0</td>\n",
       "      <td>0.0</td>\n",
       "      <td>0.0</td>\n",
       "      <td>0.0</td>\n",
       "      <td>0.0</td>\n",
       "      <td>My knowledge is very limited</td>\n",
       "      <td>6.0</td>\n",
       "      <td>6.0</td>\n",
       "      <td>0.0</td>\n",
       "      <td>0.0</td>\n",
       "    </tr>\n",
       "    <tr>\n",
       "      <th>5</th>\n",
       "      <td>1/4/2024 10:55:56</td>\n",
       "      <td>Sonia</td>\n",
       "      <td>Yes</td>\n",
       "      <td>4.0</td>\n",
       "      <td>1.0</td>\n",
       "      <td>0.0</td>\n",
       "      <td>1.0</td>\n",
       "      <td>0.0</td>\n",
       "      <td>0.0</td>\n",
       "      <td>0.0</td>\n",
       "      <td>0.0</td>\n",
       "      <td>0.0</td>\n",
       "      <td>0.0</td>\n",
       "      <td>Starting with some basics, nothing too complic...</td>\n",
       "      <td>6.0</td>\n",
       "      <td>6.0</td>\n",
       "      <td>0.0</td>\n",
       "      <td>0.0</td>\n",
       "    </tr>\n",
       "  </tbody>\n",
       "</table>\n",
       "</div>"
      ],
      "text/plain": [
       "            Timestamp First Name  \\\n",
       "0  12/28/2023 8:31:45       Mark   \n",
       "1   1/3/2024 16:30:11   Michelle   \n",
       "2  12/27/2023 9:37:47     Robert   \n",
       "3   1/2/2024 14:14:31        Raj   \n",
       "4   1/3/2024 15:30:44      Annie   \n",
       "5   1/4/2024 10:55:56      Sonia   \n",
       "\n",
       "  Do you have a maths level 2 qualification, which means GCSE maths C (new grade 4) or above, O Level maths or Level 2 Functional Skills?  \\\n",
       "0                                                Yes                                                                                        \n",
       "1                                                Yes                                                                                        \n",
       "2                                                Yes                                                                                        \n",
       "3                                                Yes                                                                                        \n",
       "4                                                Yes                                                                                        \n",
       "5                                                Yes                                                                                        \n",
       "\n",
       "   Opening a spreadsheet or creating a new blank spreadsheet.  \\\n",
       "0                                                2.0            \n",
       "1                                                4.0            \n",
       "2                                                4.0            \n",
       "3                                                2.0            \n",
       "4                                                3.0            \n",
       "5                                                4.0            \n",
       "\n",
       "   Cell Formatting: How confident are you in formatting cells, including adjusting row and column sizes and applying basic formatting like bold, italics, and underlining?  \\\n",
       "0                                                0.0                                                                                                                         \n",
       "1                                                0.0                                                                                                                         \n",
       "2                                                1.0                                                                                                                         \n",
       "3                                                3.0                                                                                                                         \n",
       "4                                                3.0                                                                                                                         \n",
       "5                                                1.0                                                                                                                         \n",
       "\n",
       "   Basic Functions and Formulas: Rate your ability to use basic functions such as SUM, AVERAGE, and COUNT.  \\\n",
       "0                                                0.0                                                         \n",
       "1                                                0.0                                                         \n",
       "2                                                1.0                                                         \n",
       "3                                                0.0                                                         \n",
       "4                                                0.0                                                         \n",
       "5                                                0.0                                                         \n",
       "\n",
       "   Data Entry and Sorting: Evaluate your proficiency in entering data and using simple sorting techniques in Excel.  \\\n",
       "0                                                0.0                                                                  \n",
       "1                                                0.0                                                                  \n",
       "2                                                0.0                                                                  \n",
       "3                                                1.0                                                                  \n",
       "4                                                0.0                                                                  \n",
       "5                                                1.0                                                                  \n",
       "\n",
       "   Charts and Graphs: Rate your ability to create and modify charts and graphs in Excel.  \\\n",
       "0                                                0.0                                       \n",
       "1                                                0.0                                       \n",
       "2                                                0.0                                       \n",
       "3                                                0.0                                       \n",
       "4                                                0.0                                       \n",
       "5                                                0.0                                       \n",
       "\n",
       "   Complex Functions (e.g., VLOOKUP, IF): How skilled are you in using more complex functions like VLOOKUP, IF statements, and conditional formatting?  \\\n",
       "0                                                0.0                                                                                                     \n",
       "1                                                0.0                                                                                                     \n",
       "2                                                0.0                                                                                                     \n",
       "3                                                0.0                                                                                                     \n",
       "4                                                0.0                                                                                                     \n",
       "5                                                0.0                                                                                                     \n",
       "\n",
       "   Data Filters and Pivot Tables: How well can you use data filters and create basic pivot tables for data analysis?  \\\n",
       "0                                                0.0                                                                   \n",
       "1                                                0.0                                                                   \n",
       "2                                                0.0                                                                   \n",
       "3                                                0.0                                                                   \n",
       "4                                                0.0                                                                   \n",
       "5                                                0.0                                                                   \n",
       "\n",
       "   Advanced Data Analysis: Assess your skills in advanced data analysis, including the use of PivotTable features like calculated fields and data groupings.  \\\n",
       "0                                                0.0                                                                                                           \n",
       "1                                                0.0                                                                                                           \n",
       "2                                                0.0                                                                                                           \n",
       "3                                                0.0                                                                                                           \n",
       "4                                                0.0                                                                                                           \n",
       "5                                                0.0                                                                                                           \n",
       "\n",
       "   Macros and VBA: Rate your proficiency in creating and using macros, and if applicable, writing basic VBA (Visual Basic for Applications) scripts.  \\\n",
       "0                                                0.0                                                                                                   \n",
       "1                                                0.0                                                                                                   \n",
       "2                                                0.0                                                                                                   \n",
       "3                                                0.0                                                                                                   \n",
       "4                                                0.0                                                                                                   \n",
       "5                                                0.0                                                                                                   \n",
       "\n",
       "   Problem-Solving and Optimization: How confident are you in using Excel to solve complex problems, optimize processes, and automate repetitive tasks?  \\\n",
       "0                                                0.0                                                                                                      \n",
       "1                                                0.0                                                                                                      \n",
       "2                                                0.0                                                                                                      \n",
       "3                                                0.0                                                                                                      \n",
       "4                                                0.0                                                                                                      \n",
       "5                                                0.0                                                                                                      \n",
       "\n",
       "  What Spreadsheet / Excel skills would you like to improve?  Total Score  \\\n",
       "0                                                all                  2.0   \n",
       "1           Everything i am a beginner at all of it                   4.0   \n",
       "2                       Basic to intermediate skills                  6.0   \n",
       "3                                         Everything                  6.0   \n",
       "4                      My knowledge is very limited                   6.0   \n",
       "5  Starting with some basics, nothing too complic...                  6.0   \n",
       "\n",
       "   Beginner  Intermediate  Advanced  \n",
       "0       2.0           0.0       0.0  \n",
       "1       4.0           0.0       0.0  \n",
       "2       6.0           0.0       0.0  \n",
       "3       6.0           0.0       0.0  \n",
       "4       6.0           0.0       0.0  \n",
       "5       6.0           0.0       0.0  "
      ]
     },
     "execution_count": 1,
     "metadata": {},
     "output_type": "execute_result"
    }
   ],
   "source": [
    "# imports libraries\n",
    "import pandas as pd\n",
    "import numpy as np\n",
    "import  matplotlib.pyplot as plt\n",
    "\n",
    "# reads-in the processed data\n",
    "df = pd.read_csv('C:/Users/Jack-/OneDrive/Desktop/Projects/Skills-Ladder-Group-Classification/Responses.csv')\n",
    "\n",
    "# reduce rows to eliminate uneeded NAs\n",
    "df = df.iloc[0:52,:]\n",
    "\n",
    "# view data frame\n",
    "df.head(6)"
   ]
  },
  {
   "cell_type": "markdown",
   "id": "c64a4bad-e287-43bd-bc4f-aa2a6c8456c1",
   "metadata": {},
   "source": [
    "## Define score class"
   ]
  },
  {
   "cell_type": "code",
   "execution_count": 2,
   "id": "af90ad35-6758-4172-8eb5-b1ba4eb1d3d9",
   "metadata": {},
   "outputs": [
    {
     "name": "stdout",
     "output_type": "stream",
     "text": [
      "The current weight for Total Score is 1\n"
     ]
    }
   ],
   "source": [
    "# define score class with associated weights\n",
    "class score_type:\n",
    "  def __init__(self, name, weight):\n",
    "    self.name = name\n",
    "    self.weight = weight\n",
    "\n",
    "# list names and weights\n",
    "names = ['Total Score', 'Math Score', 'Beginner', 'Intermediate', 'Advanced', 'Open Question Score']\n",
    "weights = [1, 1, 1, 4, 8, 8]\n",
    "\n",
    "# assign classes data\n",
    "score_types = []\n",
    "for i in range(len(names)):\n",
    "    score_types.append( score_type(names[i], weights[i]) )\n",
    "\n",
    "# print example\n",
    "print( 'The current weight for ' + score_types[0].name + ' is ' + str(score_types[0].weight) )"
   ]
  },
  {
   "cell_type": "markdown",
   "id": "6cd25df1-7d51-4183-a1ee-79c60b91846a",
   "metadata": {},
   "source": [
    "## Other parameters"
   ]
  },
  {
   "cell_type": "code",
   "execution_count": 3,
   "id": "da817ab6-4357-4599-96e6-42e8714060e8",
   "metadata": {},
   "outputs": [],
   "source": [
    "# words or beginnings of words to search for in the open question to indicate advanced learners\n",
    "open_question_advanced_words = 'macro|formula|vlookup|advanced|vba|pivot|data|complex'\n",
    "\n",
    "# the beginner upper limit and advanced lower limit for setting classification boundaries\n",
    "beginner = -0.85\n",
    "advanced = 0.85"
   ]
  },
  {
   "cell_type": "markdown",
   "id": "42e8fbc5-b638-4a29-9db9-261b6d2112bd",
   "metadata": {},
   "source": [
    "## Create math score"
   ]
  },
  {
   "cell_type": "code",
   "execution_count": 4,
   "id": "944e8502-d47d-4380-853b-d182f0752509",
   "metadata": {},
   "outputs": [],
   "source": [
    "# creates a math score\n",
    "math_score = []\n",
    "for score in df.iloc[:,2]:\n",
    "    if score=='No':\n",
    "        math_score.append( 0 )\n",
    "    else:\n",
    "        math_score.append( 1 )\n",
    "\n",
    "df['Math Score'] = math_score"
   ]
  },
  {
   "cell_type": "markdown",
   "id": "6166b72b-8305-4718-bb0d-185ebef7a259",
   "metadata": {},
   "source": [
    "## Create open question score"
   ]
  },
  {
   "cell_type": "code",
   "execution_count": 5,
   "id": "04b5da1d-47f0-4f5d-b0fa-be327779c687",
   "metadata": {},
   "outputs": [],
   "source": [
    "# creates an open question score based on advanced words\n",
    "import re\n",
    "\n",
    "open_question_score = []\n",
    "for score in df.iloc[:,13]:\n",
    "    if type(score) != str:\n",
    "        open_question_score.append( 1 )\n",
    "    elif re.search(open_question_advanced_words, score.lower()):\n",
    "        open_question_score.append( 1 )\n",
    "    else:\n",
    "        open_question_score.append( 0 )\n",
    "\n",
    "df['Open Question Score'] = open_question_score"
   ]
  },
  {
   "cell_type": "markdown",
   "id": "99ed6864-517d-4105-a92b-dd1a916541a0",
   "metadata": {},
   "source": [
    "## Convert to z-scores"
   ]
  },
  {
   "cell_type": "code",
   "execution_count": 6,
   "id": "653d668f-5c19-43f4-b19e-d12d2cf0ec7d",
   "metadata": {},
   "outputs": [],
   "source": [
    "# returns a normalized z-score for each data point in a range\n",
    "def z_scores(list):\n",
    "    mean = np.mean(list)\n",
    "    sd = np.std(list)\n",
    "    z_scores = []\n",
    "    for item in list:\n",
    "        z_scores.append( (item - mean) / sd )\n",
    "    return z_scores\n",
    "\n",
    "for col in score_types:\n",
    "    df[col.name] = z_scores( df[col.name] )"
   ]
  },
  {
   "cell_type": "markdown",
   "id": "ed89a20d-4896-459c-bbdc-fe9ad7b20f23",
   "metadata": {},
   "source": [
    "## Create final score"
   ]
  },
  {
   "cell_type": "code",
   "execution_count": 7,
   "id": "a2442593-26cd-4231-9110-5470ef29c51d",
   "metadata": {},
   "outputs": [],
   "source": [
    "# works out the final score\n",
    "def get_final_score(row):\n",
    "    scores = []\n",
    "    for score_type in score_types:\n",
    "        scores.append(df.loc[row,score_type.name] * score_type.weight)\n",
    "    return sum(scores) / len(scores)\n",
    "\n",
    "def get_final_scores():\n",
    "    final_scores = []\n",
    "    for row in range(len(df)):\n",
    "        final_scores.append( get_final_score(row) )\n",
    "    return final_scores"
   ]
  },
  {
   "cell_type": "markdown",
   "id": "5c4e0136-6db3-4c71-96bc-08537688b28a",
   "metadata": {},
   "source": [
    "## Classify groups"
   ]
  },
  {
   "cell_type": "code",
   "execution_count": 8,
   "id": "1776d615-ead3-48d5-af7e-93d2ba279724",
   "metadata": {},
   "outputs": [],
   "source": [
    "# classifies groups into one of beginner, intermediate or advanced\n",
    "def classify(advanced, beginner):\n",
    "    final_scores = get_final_scores()\n",
    "    classifications = []\n",
    "    for i in range(len(final_scores)):\n",
    "        if final_scores[i] < beginner:\n",
    "            classifications.append('beginner')\n",
    "        elif final_scores[i] > advanced:\n",
    "            classifications.append('advanced')\n",
    "        else:\n",
    "            classifications.append('intermediate')\n",
    "    return classifications"
   ]
  },
  {
   "cell_type": "markdown",
   "id": "6ffa3a2a-21ef-4a77-9ac4-a99ab9e8ed1a",
   "metadata": {},
   "source": [
    "## Original parameters"
   ]
  },
  {
   "cell_type": "markdown",
   "id": "3fb65de5-769d-46d6-a483-8a1cd8a24d8b",
   "metadata": {},
   "source": [
    "As we can see from the barplot below, the groups are relatively evenly split. Skills Ladder however want intermediate followed by beginner to be the largest and second largest groups respectively. To alter the relative distribution, we can vary the beginner and advanced limits for classification. "
   ]
  },
  {
   "cell_type": "code",
   "execution_count": 9,
   "id": "4abb4cfd-0185-4d67-bef3-8dd11ad7b58a",
   "metadata": {},
   "outputs": [
    {
     "data": {
      "image/png": "[encoded data removed]",
      "text/plain": [
       "<Figure size 640x480 with 1 Axes>"
      ]
     },
     "metadata": {},
     "output_type": "display_data"
    }
   ],
   "source": [
    "import matplotlib.pyplot\n",
    "\n",
    "# colors for plotting\n",
    "colors = ['red', 'orange', 'green']\n",
    "\n",
    "# classified learners by value count\n",
    "data = pd.DataFrame({'Level':classify(advanced, beginner)}).value_counts()\n",
    "\n",
    "# the valued counts data is extracted into a pandas dataframe ordered by level\n",
    "results_df = pd.DataFrame({'Level': ['Beginner', 'Intermediate', 'Advanced'],\n",
    "                           'Number': [data['beginner'], data['intermediate'], data['advanced']]})\n",
    "\n",
    "# plots the distribution\n",
    "plt.bar(results_df.Level, results_df.Number, color=colors);\n",
    "plt.title('Original parameters');"
   ]
  },
  {
   "cell_type": "markdown",
   "id": "40c5a33e-626b-4311-a808-424cc7fe9598",
   "metadata": {},
   "source": [
    "## Classification boundaries"
   ]
  },
  {
   "cell_type": "markdown",
   "id": "2f729ef5-e559-4fec-89b4-d71b48cd5e41",
   "metadata": {},
   "source": [
    "The plot below shows that limits of -2 and 2 for beginner and advanced groups respectively would yeild the desired results of larger intermediate groups followed subsequently by beginners and then advanced."
   ]
  },
  {
   "cell_type": "code",
   "execution_count": 15,
   "id": "2a45c191-1d59-434a-ba86-6390ad10e5b3",
   "metadata": {},
   "outputs": [
    {
     "data": {
      "image/png": "[encoded data removed]",
      "text/plain": [
       "<Figure size 640x480 with 1 Axes>"
      ]
     },
     "metadata": {},
     "output_type": "display_data"
    }
   ],
   "source": [
    "# returns a list of simulated group size results with variable parameters\n",
    "def vary_limits(start=0.25, increment=0.005, no=500):\n",
    "\n",
    "    # empty lists\n",
    "    beginner_group = []\n",
    "    intermediate_group = []\n",
    "    advanced_group = []\n",
    "    index_value = []\n",
    "\n",
    "    # the staring value for the classification limits\n",
    "    advanced = start\n",
    "    beginner = advanced - (advanced*2)\n",
    "\n",
    "    # iterates through simulations and appends the data to the relevant list\n",
    "    for i in range(no):\n",
    "        data = pd.DataFrame({'Level':classify(advanced, beginner)}).value_counts().sort_index()\n",
    "        beginner_group.append(data['beginner'])\n",
    "        intermediate_group.append(data['intermediate'])\n",
    "        advanced_group.append(data['advanced'])\n",
    "        index_value.append(advanced)\n",
    "\n",
    "        # increments the limits by the pre-defined increment amount\n",
    "        advanced = advanced + increment\n",
    "        beginner = beginner - increment\n",
    "\n",
    "    # creates a dataframe of the entire results set\n",
    "    new_data = pd.DataFrame({'beginner':beginner_group,\n",
    "                             'intermediate':intermediate_group,\n",
    "                             'advanced':advanced_group})\n",
    "    new_data.index = index_value\n",
    "    return new_data\n",
    "\n",
    "varied_limits_df = vary_limits()\n",
    "\n",
    "# plots the group size distribution as classification limits change\n",
    "plt.plot(varied_limits_df.beginner, color='red');\n",
    "plt.plot(varied_limits_df.intermediate, color='orange');\n",
    "plt.plot(varied_limits_df.advanced, color='green');\n",
    "plt.title('Group sizes');\n",
    "plt.xlabel('Classification boundary limits');\n",
    "plt.ylabel('Group size');\n",
    "plt.legend(['Beginner', 'Intermediate', 'Advanced']);"
   ]
  }
 ],
 "metadata": {
  "kernelspec": {
   "display_name": "Python 3 (ipykernel)",
   "language": "python",
   "name": "python3"
  },
  "language_info": {
   "codemirror_mode": {
    "name": "ipython",
    "version": 3
   },
   "file_extension": ".py",
   "mimetype": "text/x-python",
   "name": "python",
   "nbconvert_exporter": "python",
   "pygments_lexer": "ipython3",
   "version": "3.11.7"
  }
 },
 "nbformat": 4,
 "nbformat_minor": 5
}
